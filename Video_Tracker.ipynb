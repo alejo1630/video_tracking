{
 "cells": [
  {
   "cell_type": "markdown",
   "metadata": {},
   "source": [
    "# Importación de librerias"
   ]
  },
  {
   "cell_type": "code",
   "execution_count": 1,
   "metadata": {},
   "outputs": [],
   "source": [
    "import cv2 # Tracker\n",
    "import numpy as np #Operaciones matemáticas\n",
    "import matplotlib.pyplot as plt # Gráficas\n",
    "import pandas as pd # Base de datos\n",
    "from scipy.signal import savgol_filter # Suavizar\n",
    "from scipy.interpolate import splev, splrep # Interpolar con Spline\n",
    "\n",
    "plt.rcParams['figure.figsize'] = [10, 6]"
   ]
  },
  {
   "cell_type": "markdown",
   "metadata": {},
   "source": [
    "# Cargar el video"
   ]
  },
  {
   "cell_type": "code",
   "execution_count": 2,
   "metadata": {},
   "outputs": [],
   "source": [
    "# Cargar videos y sus propiedades\n",
    "cap = cv2.VideoCapture(\"Data/Video.mp4\") # Se importa el video\n",
    "\n",
    "NF = cap.get(cv2.CAP_PROP_FRAME_COUNT) # Número de Frames\n",
    "FPS = cap.get(cv2.CAP_PROP_FPS) # Frame per seconds\n",
    "time = NF/FPS # Duración vídeo\n",
    "Altura = cap.get(cv2.CAP_PROP_FRAME_HEIGHT) # Alto del vídeo\n",
    "Ancho = cap.get(cv2.CAP_PROP_FRAME_WIDTH) # Ancho del vídeo\n"
   ]
  },
  {
   "cell_type": "markdown",
   "metadata": {},
   "source": [
    "# Primer Frame"
   ]
  },
  {
   "cell_type": "code",
   "execution_count": 3,
   "metadata": {},
   "outputs": [
    {
     "data": {
      "text/plain": [
       "True"
      ]
     },
     "execution_count": 3,
     "metadata": {},
     "output_type": "execute_result"
    }
   ],
   "source": [
    "#Extrae el 1er Frame y lo vuelve una imagen\n",
    "\n",
    "ret, frame = cap.read() #Se obtiene la información de frames del video\n",
    "cv2.imwrite(\"Data/frame1.jpg\", frame) # Se guarda el primer frame"
   ]
  },
  {
   "cell_type": "markdown",
   "metadata": {},
   "source": [
    "# Conversión px a cm"
   ]
  },
  {
   "cell_type": "code",
   "execution_count": 4,
   "metadata": {},
   "outputs": [],
   "source": [
    "# Función para obtener coordendas a partir del click derecho\n",
    "\n",
    "def mouse_callback(event, x, y, flags, params):\n",
    "\n",
    "    if event == 2: # 2 indica click derecho\n",
    "        global right_clicks\n",
    "        right_clicks.append([x, y]) # Guarda las coordendas\n",
    "        \n",
    "        # Crear la vara de calibración con base en 2 puntos\n",
    "        img_color = cv2.imread(\"Data/frame1.jpg\")\n",
    "        cv2.circle(img_color, (x,y), radius = 4, color = (0,0,255), thickness = -1)\n",
    "        if len(right_clicks)> 1:\n",
    "            cv2.line(img_color, tuple(right_clicks[0]),tuple(right_clicks[1]), color = (0, 0, 255), thickness = 2)\n",
    "        cv2.imshow(\"image\",img_color)"
   ]
  },
  {
   "cell_type": "code",
   "execution_count": 5,
   "metadata": {},
   "outputs": [
    {
     "name": "stdout",
     "output_type": "stream",
     "text": [
      "[[86, 342], [178, 342]]\n"
     ]
    }
   ],
   "source": [
    "# Carga la imagen y obtiene las coordenadas\n",
    "\n",
    "right_clicks = list() # Lista vacía para guardar los clicks\n",
    "\n",
    "# Cargar frame inicial\n",
    "img = cv2.imread(\"Data/frame1.jpg\") \n",
    "cv2.imshow(\"image\", img)\n",
    "\n",
    "# Invocar mouse click events\n",
    "cv2.setMouseCallback(\"image\", mouse_callback)\n",
    "\n",
    "cv2.waitKey(0)\n",
    "cv2.destroyAllWindows()\n",
    "print(right_clicks)"
   ]
  },
  {
   "cell_type": "code",
   "execution_count": 6,
   "metadata": {},
   "outputs": [],
   "source": [
    "# Conversión pixeles a medidas reales\n",
    "\n",
    "dire = \"X\" #Dirección de referencia X o Y\n",
    "real = 10 #Medida real\n",
    "conv = 0 #Conversión pixeles a unidades\n",
    "\n",
    "if dire == \"X\":\n",
    "    conv = real/(abs(right_clicks[0][0]-right_clicks[1][0]))\n",
    "else:\n",
    "    conv = real/(abs(right_clicks[0][1]-right_clicks[1][1]))"
   ]
  },
  {
   "cell_type": "markdown",
   "metadata": {},
   "source": [
    "# Función Bbox"
   ]
  },
  {
   "cell_type": "code",
   "execution_count": 7,
   "metadata": {},
   "outputs": [],
   "source": [
    "# Función para actualizar el bbox en el vídeo\n",
    "def drawBox(frame,bbox):\n",
    "    # (x,y) Esquina superior izquierda del bbox\n",
    "    # (w,h) Esquina inferior derecha del bbox\n",
    "    x,y,w,h =  int(bbox[0]),int(bbox[1]),int(bbox[2]),int(bbox[3]) # Obtiene la información de cada bbox\n",
    "    cv2.rectangle(frame,(x,y),((x+w),(y+h)),(255,0,255),3) # Crear bbox en cada frame\n",
    "    return x,y,w,h"
   ]
  },
  {
   "cell_type": "markdown",
   "metadata": {},
   "source": [
    "# Video Tracking "
   ]
  },
  {
   "cell_type": "code",
   "execution_count": null,
   "metadata": {},
   "outputs": [],
   "source": [
    "cap = cv2.VideoCapture(\"Data/Video.mp4\") # Se importa el video\n",
    "\n",
    "tracker = cv2.TrackerCSRT_create() # Se inicializa la herramienta de tracker (pip install --user opencv-contrib-python)\n",
    "\n",
    "ret, frame = cap.read() #Se obtiene la información de frames del video\n",
    "\n",
    "bbox = cv2.selectROI(\"Frame\",frame,False)\n",
    "tracker.init(frame,bbox)\n",
    "\n",
    "x_coord = []\n",
    "y_coord = []\n",
    "\n",
    "while(cap.isOpened()):\n",
    "    \n",
    "    ret, frame = cap.read() #Se obtiene la información de frames del video\n",
    "       \n",
    "    if ret == True:\n",
    "        ret2,bbox = tracker.update(frame)\n",
    "        if ret2 == True:\n",
    "            x,y,w,h = drawBox(frame,bbox)\n",
    "            x_coord.append(x*conv + w*conv/2)\n",
    "            y_coord.append(Altura*conv-(y*conv + h*conv/2))\n",
    "            cv2.putText(frame,\"Tracking\",(75,50),cv2.FONT_HERSHEY_SIMPLEX,0.7,(0,255,0),2)\n",
    "        else:\n",
    "            cv2.putText(frame,\"Lost\",(75,50),cv2.FONT_HERSHEY_SIMPLEX,0.7,(0,0,255),2)\n",
    "            \n",
    "        cv2.imshow('Frame',frame) #Muestra la ventana del vídeo    \n",
    "        k = cv2.waitKey(33)\n",
    "        if k == ord(\" \"): # Usar barra espaciadora para pausar o reproducir el video\n",
    "                cv2.waitKey(-1)\n",
    "        if k == ord(\"q\"): #Usar q para cerrar la ventaa\n",
    "            break\n",
    "    else:\n",
    "        break\n",
    "\n",
    "cap.release()\n",
    "cv2.destroyAllWindows()"
   ]
  },
  {
   "cell_type": "markdown",
   "metadata": {},
   "source": [
    "# Análisis Cinemático"
   ]
  },
  {
   "cell_type": "markdown",
   "metadata": {},
   "source": [
    "## Posición"
   ]
  },
  {
   "cell_type": "code",
   "execution_count": null,
   "metadata": {},
   "outputs": [],
   "source": [
    "# Gráficar x vs y\n",
    "plt.plot(x_coord, y_coord)\n",
    "plt.xlabel(\"X [cm]\")\n",
    "plt.ylabel(\"Y [cm]\")\n",
    "plt.show()"
   ]
  },
  {
   "cell_type": "code",
   "execution_count": null,
   "metadata": {},
   "outputs": [],
   "source": [
    "# Lista de tiempo\n",
    "list_time =  np.arange(0, time + time / (len(x_coord)),time/(len(x_coord)-1)).tolist()"
   ]
  },
  {
   "cell_type": "code",
   "execution_count": null,
   "metadata": {},
   "outputs": [],
   "source": [
    "# Gráfica de t vs. x\n",
    "\n",
    "plt.plot(list_time, x_coord)\n",
    "plt.xlabel(\"t [s]\")\n",
    "plt.ylabel(\"X [cm]\")\n",
    "plt.show()"
   ]
  },
  {
   "cell_type": "code",
   "execution_count": null,
   "metadata": {},
   "outputs": [],
   "source": [
    "# Gráfica de t vs. y\n",
    "\n",
    "plt.plot(list_time,y_coord)\n",
    "plt.xlabel(\"t [s]\")\n",
    "plt.ylabel(\"Y [cm]\")\n",
    "plt.show()"
   ]
  },
  {
   "cell_type": "markdown",
   "metadata": {},
   "source": [
    "## Datos Tracker\n",
    "\n",
    "Datos cinemáticos obtenidos con el software [Tracker](https://physlets.org/tracker/) para hacer una comparativa"
   ]
  },
  {
   "cell_type": "code",
   "execution_count": null,
   "metadata": {},
   "outputs": [],
   "source": [
    "# Cargar datos de excel\n",
    "\n",
    "DT = pd.read_excel(\"Data/Tracker_Data.xlsx\")\n",
    "DT.head()"
   ]
  },
  {
   "cell_type": "code",
   "execution_count": null,
   "metadata": {},
   "outputs": [],
   "source": [
    "# Gráfica t vs x\n",
    "\n",
    "plt.plot(DT[\"t\"], DT[\"x\"] - 5, label = \"Tracker\")\n",
    "plt.plot(list_time, x_coord, label = \"Python\")\n",
    "plt.legend()\n",
    "plt.xlabel(\"t [s]\")\n",
    "plt.ylabel(\"X [cm]\")\n",
    "plt.show()"
   ]
  },
  {
   "cell_type": "code",
   "execution_count": null,
   "metadata": {},
   "outputs": [],
   "source": [
    "# Gráfica t vs y\n",
    "\n",
    "plt.plot(DT[\"t\"], DT[\"y\"] - 4, label = \"Tracker\")\n",
    "plt.plot(list_time, y_coord, label = \"Python\")\n",
    "plt.legend()\n",
    "plt.xlabel(\"t [s]\")\n",
    "plt.ylabel(\"Y [cm]\")\n",
    "plt.show()"
   ]
  },
  {
   "cell_type": "markdown",
   "metadata": {},
   "source": [
    "## Velocidad\n",
    "\n",
    "Inicialmente la velocidad se calcula con base en la relación entre el cambio de posición y tiempo\n",
    "\n",
    "$$v_{x} = \\frac{\\Delta x}{\\Delta t} \\approx \\frac{dx}{dt}$$ \n",
    "\n",
    "$$v_{y} = \\frac{\\Delta y}{\\Delta t} \\approx \\frac{dy}{dt}$$ "
   ]
  },
  {
   "cell_type": "code",
   "execution_count": null,
   "metadata": {},
   "outputs": [],
   "source": [
    "## Velocidades\n",
    "vxd = []\n",
    "vyd = []\n",
    "for i in range(len(list_time)-1):\n",
    "    vxd.append((x_coord[i+1]-x_coord[i])/(list_time[i+1]-list_time[i]))\n",
    "    vyd.append((y_coord[i+1]-y_coord[i])/(list_time[i+1]-list_time[i]))"
   ]
  },
  {
   "cell_type": "code",
   "execution_count": null,
   "metadata": {},
   "outputs": [],
   "source": [
    "# Gráfica velocidad vx\n",
    "\n",
    "plt.plot(DT[\"t\"], DT[\"vx\"], label = \"Tracker\")\n",
    "plt.plot(list_time[:-1], vxd, label = \"Python\")\n",
    "plt.legend()\n",
    "plt.xlabel(\"t [s]\")\n",
    "plt.ylabel(\"v_x [cm/s]\")\n",
    "plt.show()\n"
   ]
  },
  {
   "cell_type": "code",
   "execution_count": null,
   "metadata": {},
   "outputs": [],
   "source": [
    "# Gráfica velocidad vy\n",
    "\n",
    "plt.plot(DT[\"t\"], DT[\"vy\"], label = \"Tracker\")\n",
    "plt.plot(list_time[:-1], vyd, label = \"Python\")\n",
    "plt.legend()\n",
    "plt.xlabel(\"t [s]\")\n",
    "plt.ylabel(\"v_y [cm/s]\")\n",
    "plt.show()"
   ]
  },
  {
   "cell_type": "markdown",
   "metadata": {},
   "source": [
    "### Suavizar datos de posición\n",
    "\n",
    "<!-- Debido al ruido que presentan los datos, se aplica un proceo de suavización de datos empleando un [Filtro de Savitzky–Golay](https://en.wikipedia.org/wiki/Savitzky%E2%80%93Golay_filter) -->"
   ]
  },
  {
   "cell_type": "code",
   "execution_count": null,
   "metadata": {},
   "outputs": [],
   "source": [
    "## Suavizar\n",
    "\n",
    "xs = savgol_filter(x_coord, 11, 3) # window size 51, polynomial order 3\n",
    "ys = savgol_filter(y_coord, 17, 3) # window size 51, polynomial order 3"
   ]
  },
  {
   "cell_type": "code",
   "execution_count": null,
   "metadata": {},
   "outputs": [],
   "source": [
    "# Gráfica suavizada de x vs t\n",
    "\n",
    "plt.plot(DT[\"t\"], DT[\"x\"] - 5, label = \"Tracker\")\n",
    "plt.plot(list_time, xs, label = \"Suavizado\")\n",
    "plt.legend()\n",
    "plt.xlabel(\"t [s]\")\n",
    "plt.ylabel(\"X [cm]\")\n",
    "plt.show()\n"
   ]
  },
  {
   "cell_type": "markdown",
   "metadata": {},
   "source": [
    "Podemos evlauar varios parémtros del filtro usando un slider del paquete de [widgets](https://ipywidgets.readthedocs.io/en/stable/) de Python"
   ]
  },
  {
   "cell_type": "code",
   "execution_count": null,
   "metadata": {},
   "outputs": [],
   "source": [
    "# Slider x\n",
    "\n",
    "import ipywidgets as wg\n",
    "from IPython.display import display\n",
    "\n",
    "def my_plotx(a,b):\n",
    "    a = int(a)\n",
    "    b = int(b)\n",
    "    xs = savgol_filter(x_coord, a, b) # window size 51, polynomial order 3\n",
    "    plt.figure(figsize = (10,4))\n",
    "    plt.plot(DT[\"t\"], DT[\"x\"] - 5, label = \"Tracker\")\n",
    "    plt.plot(list_time, xs, label = \"Suavizado\")\n",
    "    plt.legend()"
   ]
  },
  {
   "cell_type": "code",
   "execution_count": null,
   "metadata": {},
   "outputs": [],
   "source": [
    "my_plotx(11,3)"
   ]
  },
  {
   "cell_type": "code",
   "execution_count": null,
   "metadata": {},
   "outputs": [],
   "source": [
    "a_slide = wg.FloatSlider(value = 11, min = 5, max = 101, step = 2)\n",
    "b_slide = wg.FloatSlider(value = 3, min = 0, max = 10, step = 1)\n",
    "wg.interact(my_plotx, a = a_slide, b = b_slide)"
   ]
  },
  {
   "cell_type": "code",
   "execution_count": null,
   "metadata": {},
   "outputs": [],
   "source": [
    "# Gráfica suavizada de y vs t\n",
    "\n",
    "plt.plot(DT[\"t\"], DT[\"y\"] - 4, label = \"Tracker\")\n",
    "plt.plot(list_time, ys, label = \"Suavizado\")\n",
    "plt.legend()\n",
    "plt.xlabel(\"t [s]\")\n",
    "plt.ylabel(\"Y [cm]\")\n",
    "plt.show()"
   ]
  },
  {
   "cell_type": "code",
   "execution_count": null,
   "metadata": {},
   "outputs": [],
   "source": [
    "# Slider y\n",
    "\n",
    "def my_ploty(a,b):\n",
    "    a = int(a)\n",
    "    b = int(b)\n",
    "    ys = savgol_filter(y_coord, a, b) # window size 51, polynomial order 3\n",
    "    plt.figure(figsize = (10,4))\n",
    "    plt.plot(DT[\"t\"], DT[\"y\"] - 4, label = \"Tracker\")\n",
    "    plt.plot(list_time, ys, label = \"Suavizado\")\n",
    "    plt.legend()\n",
    "    "
   ]
  },
  {
   "cell_type": "code",
   "execution_count": null,
   "metadata": {},
   "outputs": [],
   "source": [
    "a_slide = wg.FloatSlider(value = 17, min = 5, max = 51, step = 2)\n",
    "b_slide = wg.FloatSlider(value = 3, min = 0, max = 10, step = 1)\n",
    "wg.interact(my_ploty, a = a_slide, b = b_slide)"
   ]
  },
  {
   "cell_type": "code",
   "execution_count": null,
   "metadata": {},
   "outputs": [],
   "source": [
    "## Velocidades\n",
    "\n",
    "vxd = []\n",
    "vyd = []\n",
    "for i in range(len(list_time)-1):\n",
    "    vxd.append((xs[i+1]-xs[i])/(list_time[i+1]-list_time[i]))\n",
    "    vyd.append((ys[i+1]-ys[i])/(list_time[i+1]-list_time[i]))"
   ]
  },
  {
   "cell_type": "code",
   "execution_count": null,
   "metadata": {},
   "outputs": [],
   "source": [
    "# Velocidad en X\n",
    "\n",
    "plt.plot(DT[\"t\"], DT[\"vx\"], label = \"Tracker\")\n",
    "plt.plot(list_time[:-1], vxd, label = \"Suavizado\")\n",
    "plt.legend()\n",
    "plt.xlabel(\"t [s]\")\n",
    "plt.ylabel(\"v_x [cm/s]\")\n",
    "plt.show()"
   ]
  },
  {
   "cell_type": "code",
   "execution_count": null,
   "metadata": {},
   "outputs": [],
   "source": [
    "# Velocidad en Y\n",
    "\n",
    "plt.plot(DT[\"t\"],DT[\"vy\"], label =\"Tracker\")\n",
    "plt.plot(list_time[:-1],vyd, label = \"Suavizado\")\n",
    "plt.legend()\n",
    "plt.xlabel(\"t [s]\")\n",
    "plt.ylabel(\"v_y [cm/s]\")\n",
    "plt.show()"
   ]
  },
  {
   "cell_type": "markdown",
   "metadata": {},
   "source": [
    "### Interpolación tipo Spline\n",
    "\n"
   ]
  },
  {
   "cell_type": "code",
   "execution_count": null,
   "metadata": {},
   "outputs": [],
   "source": [
    "## Interpolación con Spline X\n",
    "spl1 = splrep(list_time,x_coord)\n",
    "new_x = splev(list_time,spl1)\n",
    "\n",
    "plt.plot(list_time,x_coord, label = \"Python Original\")\n",
    "plt.plot(list_time,xs,label = \"Suavizado\")\n",
    "plt.plot(list_time,new_x, label = \"Spline\")\n",
    "plt.legend()\n",
    "plt.xlabel(\"t [s]\")\n",
    "plt.ylabel(\"x [cm]\")\n",
    "plt.show()"
   ]
  },
  {
   "cell_type": "code",
   "execution_count": null,
   "metadata": {},
   "outputs": [],
   "source": [
    "## Interpolación con Spline Y\n",
    "spl2 = splrep(list_time,y_coord, s = 1)\n",
    "new_y =splev(list_time,spl2)\n",
    "\n",
    "plt.plot(list_time,y_coord, label = \"Python Original\")\n",
    "plt.plot(list_time,ys, label = \"Suavizado\")\n",
    "plt.plot(list_time,new_y, label = \"Spline\")\n",
    "plt.legend()\n",
    "plt.xlabel(\"t [s]\")\n",
    "plt.ylabel(\"y [cm]\")\n",
    "plt.show()"
   ]
  },
  {
   "cell_type": "code",
   "execution_count": null,
   "metadata": {},
   "outputs": [],
   "source": [
    "# Widget\n",
    "\n",
    "def spline_1(a):\n",
    "    spl2 = splrep(list_time,y_coord,s = a)\n",
    "    new_y =splev(list_time,spl2)\n",
    "    plt.figure(figsize = (10,4))\n",
    "    plt.plot(list_time,y_coord,label=\"Python\")\n",
    "    plt.plot(list_time,ys,label=\"Suavizado\")\n",
    "    plt.plot(list_time,new_y,label=\"Spline\")\n",
    "    plt.legend()"
   ]
  },
  {
   "cell_type": "code",
   "execution_count": null,
   "metadata": {},
   "outputs": [],
   "source": [
    "a_slider = wg.FloatSlider(value = 1, min = 1, max = 100, step = 1)\n",
    "wg.interact(spline_1, a = a_slider)"
   ]
  },
  {
   "cell_type": "code",
   "execution_count": null,
   "metadata": {},
   "outputs": [],
   "source": [
    "# Velocidad en X Spline + Datos orginales\n",
    "\n",
    "spl1 = splrep(list_time,x_coord, s = 10)\n",
    "new_vx =splev(list_time,spl1,der=1)\n",
    "plt.plot(DT[\"t\"],DT[\"vx\"],label = \"Tracker\")\n",
    "plt.plot(list_time,new_vx,label = \"Spline + Datos orginales\")\n",
    "plt.legend()\n",
    "plt.xlabel(\"t [s]\")\n",
    "plt.ylabel(\"v_x [cm/s]\")\n",
    "plt.show()"
   ]
  },
  {
   "cell_type": "code",
   "execution_count": null,
   "metadata": {},
   "outputs": [],
   "source": [
    "# Velocidad en X Spline + Datos Suavizados\n",
    "\n",
    "spl1 = splrep(list_time,xs)\n",
    "new_vx =splev(list_time,spl1,der = 1)\n",
    "plt.plot(DT[\"t\"], DT[\"vx\"], label = \"Tracker\")\n",
    "plt.plot(list_time, new_vx, label = \"Spline + Suavizado\")\n",
    "plt.legend()\n",
    "plt.xlabel(\"t [s]\")\n",
    "plt.ylabel(\"v_x [cm/s]\")\n",
    "plt.show()"
   ]
  },
  {
   "cell_type": "code",
   "execution_count": null,
   "metadata": {},
   "outputs": [],
   "source": [
    "# Velocidad en Y Spline + Datos Originales \n",
    "\n",
    "spl2 = splrep(list_time,y_coord,s = 10)\n",
    "new_vy =splev(list_time,spl2,der = 1)\n",
    "plt.plot(DT[\"t\"], DT[\"vy\"], label = \"Tracker\")\n",
    "plt.plot(list_time,new_vy, label=\"Spline + Datos Originales\")\n",
    "plt.legend()\n",
    "plt.xlabel(\"t [s]\")\n",
    "plt.ylabel(\"v_y [cm/s]\")\n",
    "plt.show()"
   ]
  },
  {
   "cell_type": "code",
   "execution_count": null,
   "metadata": {},
   "outputs": [],
   "source": [
    "# Velocidad en Y Spline + Datos Suavizados\n",
    "\n",
    "spl2 = splrep(list_time,ys)\n",
    "new_vy =splev(list_time,spl2,der = 1)\n",
    "\n",
    "plt.plot(DT[\"t\"], DT[\"vy\"], label = \"Tracker\")\n",
    "plt.plot(list_time, new_vy, label = \"Spline + Suavizado\")\n",
    "plt.legend()\n",
    "plt.xlabel(\"t [s]\")\n",
    "plt.ylabel(\"v_y [cm/s]\")\n",
    "plt.show()"
   ]
  },
  {
   "cell_type": "code",
   "execution_count": null,
   "metadata": {},
   "outputs": [],
   "source": [
    "# Gráficas finales de velocidad x\n",
    "\n",
    "plt.plot(DT[\"t\"],DT[\"vx\"],label = \"Tracker\")\n",
    "plt.plot(list_time[:-1],vxd,label = \"Delta\")\n",
    "plt.plot(list_time,new_vx,label = \"Spline\")\n",
    "plt.legend()\n",
    "plt.xlabel(\"t [s]\")\n",
    "plt.ylabel(\"v_x [cm/s]\")\n",
    "plt.show()"
   ]
  },
  {
   "cell_type": "code",
   "execution_count": null,
   "metadata": {},
   "outputs": [],
   "source": [
    "# Gráficas finales de velocidad y\n",
    "\n",
    "plt.plot(DT[\"t\"],DT[\"vy\"], label = \"Tracker\")\n",
    "plt.plot(list_time[:-1], vyd,label = \"Delta\")\n",
    "plt.plot(list_time,new_vy, label = \"Spline\")\n",
    "plt.legend()\n",
    "plt.xlabel(\"t [s]\")\n",
    "plt.ylabel(\"v_y [cm/s]\")\n",
    "plt.show()"
   ]
  },
  {
   "cell_type": "markdown",
   "metadata": {},
   "source": [
    "## Aceleración\n",
    "\n",
    "La aceleración se calcula con base en la relación entre el cambio de velocidad y tiempo\n",
    "\n",
    "$$a_{x} = \\frac{\\Delta v_x}{\\Delta t} \\approx \\frac{dv_x}{dt}$$ \n",
    "\n",
    "$$a_{y} = \\frac{\\Delta v_y}{\\Delta t} \\approx \\frac{dv_y}{dt}$$ "
   ]
  },
  {
   "cell_type": "code",
   "execution_count": null,
   "metadata": {},
   "outputs": [],
   "source": [
    "## Aceleración\n",
    "\n",
    "ax = []\n",
    "ay = []\n",
    "for i in range(len(list_time)-2):\n",
    "    ax.append((vxd[i+1]-vxd[i])/(list_time[i+1]-list_time[i]))\n",
    "    ay.append((vyd[i+1]-vyd[i])/(list_time[i+1]-list_time[i]))"
   ]
  },
  {
   "cell_type": "code",
   "execution_count": null,
   "metadata": {},
   "outputs": [],
   "source": [
    "# Aceleración con Spline\n",
    "\n",
    "new_ax =splev(list_time, spl1, der = 2)\n",
    "new_ay =splev(list_time, spl2, der = 2)"
   ]
  },
  {
   "cell_type": "code",
   "execution_count": null,
   "metadata": {},
   "outputs": [],
   "source": [
    "# Gráfica aceleración ax\n",
    "\n",
    "plt.plot(DT[\"t\"], DT[\"ax\"], label = \"Tracker\")\n",
    "plt.plot(list_time, new_ax, label = \"Spline\")\n",
    "plt.plot(list_time[:-2], ax, label = \"Suavizados\")\n",
    "\n",
    "plt.legend()\n",
    "plt.xlabel(\"t [s]\")\n",
    "plt.ylabel(\"a_x [cm/s^2]\")\n",
    "plt.show()"
   ]
  },
  {
   "cell_type": "code",
   "execution_count": null,
   "metadata": {},
   "outputs": [],
   "source": [
    "# Gráfica velocidad ay\n",
    "\n",
    "plt.plot(DT[\"t\"], DT[\"ay\"], label = \"Tracker\")\n",
    "plt.plot(list_time, new_ay, label = \"Spline\")\n",
    "plt.plot(list_time[:-2], ay, label = \"Suavizados\")\n",
    "\n",
    "plt.legend()\n",
    "plt.xlabel(\"t [s]\")\n",
    "plt.ylabel(\"a_y [cm/s^2]\")\n",
    "plt.show()"
   ]
  }
 ],
 "metadata": {
  "kernelspec": {
   "display_name": "Python 3 (ipykernel)",
   "language": "python",
   "name": "python3"
  },
  "language_info": {
   "codemirror_mode": {
    "name": "ipython",
    "version": 3
   },
   "file_extension": ".py",
   "mimetype": "text/x-python",
   "name": "python",
   "nbconvert_exporter": "python",
   "pygments_lexer": "ipython3",
   "version": "3.9.12"
  }
 },
 "nbformat": 4,
 "nbformat_minor": 2
}
